{
 "cells": [
  {
   "attachments": {},
   "cell_type": "markdown",
   "metadata": {},
   "source": [
    "# WeatherAPI (WeatherAPI, hiding API keys)\n",
    "\n",
    "Answer the following questions using [WeatherAPI](http://www.weatherapi.com/). It's a smaller assignment than the last weather one, and mostly serves to get you used to creating API urls and using `python-dotenv`.\n",
    "\n",
    "Hold `Shift` and hit `Enter` to run a cell, and use the `+` on the top left to add a new cell to a notebook. Be sure to take advantage of both the documentation and the API Explorer!\n",
    "\n",
    "## 0) Import any libraries you might need\n",
    "\n",
    "- *Tip: We're going to be downloading things from the internet, so we probably need `requests`.*\n",
    "- *Tip: Remember you only need to import requests once!*"
   ]
  },
  {
   "cell_type": "code",
   "execution_count": 3,
   "metadata": {},
   "outputs": [],
   "source": [
    "import requests"
   ]
  },
  {
   "cell_type": "code",
   "execution_count": 5,
   "metadata": {},
   "outputs": [
    {
     "data": {
      "text/plain": [
       "True"
      ]
     },
     "execution_count": 5,
     "metadata": {},
     "output_type": "execute_result"
    }
   ],
   "source": [
    "import os\n",
    "from dotenv import load_dotenv\n",
    "load_dotenv()\n"
   ]
  },
  {
   "attachments": {},
   "cell_type": "markdown",
   "metadata": {},
   "source": [
    "## 1) Use the `python-dotenv` package to import your WeatherAPI API key\n",
    "\n",
    "We're going to be posting this code on GitHub, so you'll want to hide your API keys! Take a look at [this video](https://www.youtube.com/watch?v=YdgIWTYQ69A) about how to hide API keys from public view while still using them. It involves creating a separate `.env` file (use either VS Code or create it using Jupyter) that includes your API key, then importing it with [python-dotenv](https://github.com/theskumar/python-dotenv).\n",
    "\n",
    "Save this as a variable called `API_KEY`."
   ]
  },
  {
   "cell_type": "code",
   "execution_count": 6,
   "metadata": {},
   "outputs": [],
   "source": [
    "API_KEY = os.getenv('API_KEY')"
   ]
  },
  {
   "attachments": {},
   "cell_type": "markdown",
   "metadata": {},
   "source": [
    "## 2) Print the URL for the current forecast in New York City\n",
    "\n",
    "This is really just a test to make sure you can still create a URL when the API key is read in as a variable."
   ]
  },
  {
   "cell_type": "code",
   "execution_count": 40,
   "metadata": {},
   "outputs": [
    {
     "name": "stdout",
     "output_type": "stream",
     "text": [
      "https://api.weatherapi.com/v1/current.json?key=cd347de98148464a8f2123817231106&q=New%20York&aqi=yes\n"
     ]
    }
   ],
   "source": [
    "url_nyc = f'https://api.weatherapi.com/v1/current.json?key={API_KEY}&q=New%20York&aqi=yes'\n",
    "print(url_nyc)\n",
    "url_tor = f'https://api.weatherapi.com/v1/current.json?key={API_KEY}&q=Toronto&aqi=yes'"
   ]
  },
  {
   "attachments": {},
   "cell_type": "markdown",
   "metadata": {
    "collapsed": true
   },
   "source": [
    "## 2) Compare the air quality for NYC and Toronto, Canada\n",
    "\n",
    "Using PM2.5 measurements, compare the air quality of NYC and Toronto, Canada. If NYC has a higher PM2.5 measurement than Toronto, print \"NYC is worse.\" If Toronto's is higher, print \"Toronto is worse.\"\n",
    "\n",
    "- *Hint: This NYC URL is based on the URL for the current weather of NYC, but is a tiny tiny bit different.*\n",
    "- *Hint: You'll need to add an additional option to the URL to include air quality data*\n",
    "- *Hint: You'll (probably) need multiple variables instead of just using `data` twice*"
   ]
  },
  {
   "cell_type": "code",
   "execution_count": 41,
   "metadata": {},
   "outputs": [
    {
     "name": "stdout",
     "output_type": "stream",
     "text": [
      "<Response [200]> <Response [200]>\n"
     ]
    }
   ],
   "source": [
    "nyc = requests.get(url_nyc)\n",
    "toronto = requests.get(url_tor)\n",
    "print(nyc, toronto)\n",
    "\n",
    "nyc = nyc.json()\n",
    "toronto = toronto.json()"
   ]
  },
  {
   "cell_type": "code",
   "execution_count": 42,
   "metadata": {},
   "outputs": [
    {
     "name": "stdout",
     "output_type": "stream",
     "text": [
      "NYC is worse.\n"
     ]
    }
   ],
   "source": [
    "if nyc['current']['air_quality']['pm2_5'] > toronto['current']['air_quality']['pm2_5']:\n",
    "    print('NYC is worse.')\n",
    "else:\n",
    "    print('Toronto is worse.')"
   ]
  },
  {
   "cell_type": "code",
   "execution_count": 43,
   "metadata": {},
   "outputs": [
    {
     "name": "stdout",
     "output_type": "stream",
     "text": [
      "NYC's pollution 5.300000190734863, Toronto's 4.0.\n"
     ]
    }
   ],
   "source": [
    "print(f\"NYC's pollution {nyc['current']['air_quality']['pm2_5']}, Toronto's {toronto['current']['air_quality']['pm2_5']}.\")"
   ]
  },
  {
   "attachments": {},
   "cell_type": "markdown",
   "metadata": {},
   "source": [
    "## 2) Print the time zones for both NYC and Toronto.\n",
    "\n",
    "If they have the same time, print \"it is (the time) in both cities.\" If not, print \"It is (nyc time) in NYC and (Toronto time) in Toronto.\"\n",
    "\n",
    "- *Hint: Both cities should have the same local time. If they don't, what's going on? It's a code issue!*\n",
    "- *Hint: f-strings are unwieldy here, I'd just use the comma version of `print`*"
   ]
  },
  {
   "cell_type": "code",
   "execution_count": 44,
   "metadata": {},
   "outputs": [
    {
     "name": "stdout",
     "output_type": "stream",
     "text": [
      "It is 2023-06-15 9:12 in both cities.\n"
     ]
    }
   ],
   "source": [
    "if nyc['location']['localtime'] == toronto['location']['localtime']:\n",
    "    print('It is', nyc['location']['localtime'], 'in both cities.')\n",
    "else:\n",
    "    print('It is', nyc['location']['localtime'], 'in NYC and', toronto['location']['localtime'], 'in Toronto.')"
   ]
  },
  {
   "cell_type": "code",
   "execution_count": null,
   "metadata": {},
   "outputs": [],
   "source": []
  },
  {
   "cell_type": "code",
   "execution_count": null,
   "metadata": {},
   "outputs": [],
   "source": []
  },
  {
   "attachments": {},
   "cell_type": "markdown",
   "metadata": {},
   "source": [
    "## 3) Speaking of Canada, don't they have a London up there?\n",
    "\n",
    "Print out every city that is called \"London,\" along with the region and country it is in. Your output should look like:\n",
    "\n",
    "```\n",
    "There is a London in United Kingdom\n",
    "There is a London in Canada\n",
    "```\n",
    "\n",
    "Do **not** print out `Londonderry`, since it isn't actually a London.\n",
    "\n",
    "- *Hint: You'll need an `if` for that last part*"
   ]
  },
  {
   "cell_type": "code",
   "execution_count": 10,
   "metadata": {},
   "outputs": [],
   "source": [
    "url_ldn = f'https://api.weatherapi.com/v1/search.json?key={API_KEY}&q=London&aqi=yes'\n",
    "ldn = requests.get(url_ldn)\n",
    "ldn = ldn.json()"
   ]
  },
  {
   "cell_type": "code",
   "execution_count": 18,
   "metadata": {},
   "outputs": [
    {
     "name": "stdout",
     "output_type": "stream",
     "text": [
      "There is a London in United Kingdom\n",
      "There is a London in Canada\n"
     ]
    }
   ],
   "source": [
    "for city in ldn:\n",
    "    if city['name'] == 'London':\n",
    "        print(f\"There is a {city['name']} in {city['country']}\")"
   ]
  },
  {
   "cell_type": "code",
   "execution_count": null,
   "metadata": {},
   "outputs": [],
   "source": []
  }
 ],
 "metadata": {
  "kernelspec": {
   "display_name": "Python 3 (ipykernel)",
   "language": "python",
   "name": "python3"
  },
  "language_info": {
   "codemirror_mode": {
    "name": "ipython",
    "version": 3
   },
   "file_extension": ".py",
   "mimetype": "text/x-python",
   "name": "python",
   "nbconvert_exporter": "python",
   "pygments_lexer": "ipython3",
   "version": "3.10.11"
  }
 },
 "nbformat": 4,
 "nbformat_minor": 1
}
